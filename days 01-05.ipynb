{
 "cells": [
  {
   "cell_type": "code",
   "execution_count": 1,
   "metadata": {},
   "outputs": [
    {
     "name": "stdout",
     "output_type": "stream",
     "text": [
      "Answer to Day 1, Part 1: 2970687\n",
      "Answer to Day 1, Part 2: 23963899\n"
     ]
    }
   ],
   "source": [
    "list1 = []\n",
    "list2 = []\n",
    "with open('./inputs/day01.txt', 'r') as f:\n",
    "    while line := f.readline().strip():\n",
    "        i, j = line.split('   ')\n",
    "        list1.append(int(i))\n",
    "        list2.append(int(j))\n",
    "\n",
    "# sum of the absolute differences\n",
    "print('Answer to Day 1, Part 1:', sum(abs(i - j) for i, j in zip(sorted(list1), sorted(list2))))\n",
    "\n",
    "# sum of the list2-count times the value\n",
    "print('Answer to Day 1, Part 2:', sum(i * list2.count(i) for i in list1))"
   ]
  },
  {
   "cell_type": "code",
   "execution_count": 2,
   "metadata": {},
   "outputs": [
    {
     "name": "stdout",
     "output_type": "stream",
     "text": [
      "Answer to Day 2, Part 1: 341\n",
      "Answer to Day 2, Part 2: 404\n"
     ]
    }
   ],
   "source": [
    "import torch\n",
    "\n",
    "reports = []\n",
    "with open('./inputs/day02.txt', 'r') as f:\n",
    "    while line := f.readline().strip():\n",
    "        reports.append(torch.tensor(list(map(int, line.split()))))\n",
    "\n",
    "def is_safe(report):\n",
    "    if not (all(report.diff() > 0) or all(report.diff() < 0)):\n",
    "        return False\n",
    "    if max(abs(report.diff())) > 3:\n",
    "        return False\n",
    "    return True\n",
    "\n",
    "print('Answer to Day 2, Part 1:', sum(is_safe(r) for r in reports))\n",
    "\n",
    "# iteratively removing single elements and checking for safety\n",
    "part2_ans = sum(any(is_safe(torch.cat((r[:i], r[i+1:]))) for i in range(len(r))) for r in reports)\n",
    "print('Answer to Day 2, Part 2:', part2_ans)"
   ]
  },
  {
   "cell_type": "code",
   "execution_count": 3,
   "metadata": {},
   "outputs": [
    {
     "name": "stdout",
     "output_type": "stream",
     "text": [
      "Answer to Day 3, Part 1: 170807108\n",
      "Answer to Day 3, Part 2: 74838033\n"
     ]
    }
   ],
   "source": [
    "import re\n",
    "\n",
    "with open('./inputs/day03.txt', 'r') as f:\n",
    "    program = f.read()\n",
    "\n",
    "part1_ans = 0\n",
    "for m in re.findall(r'mul\\([0-9]{1,3},[0-9]{1,3}\\)', program):\n",
    "    x, y = re.findall(r'[0-9]{1,3}', m)\n",
    "    part1_ans += int(x) * int(y)\n",
    "\n",
    "print('Answer to Day 3, Part 1:', part1_ans)\n",
    "\n",
    "enabled = True\n",
    "part2_ans = 0\n",
    "for m in re.findall(r\"mul\\([0-9]{1,3},[0-9]{1,3}\\)|do\\(\\)|don't\\(\\)\", program):\n",
    "    if m == \"don't()\":\n",
    "        enabled = False\n",
    "    elif m == \"do()\":\n",
    "        enabled = True\n",
    "    elif enabled:\n",
    "        x, y = re.findall(r'[0-9]{1,3}', m)\n",
    "        part2_ans += int(x) * int(y)\n",
    "\n",
    "print('Answer to Day 3, Part 2:', part2_ans)"
   ]
  },
  {
   "cell_type": "code",
   "execution_count": 4,
   "metadata": {},
   "outputs": [
    {
     "name": "stdout",
     "output_type": "stream",
     "text": [
      "Answer to Day 4, Part 1: 2370\n",
      "Answer to Day 4, Part 2: 1908\n"
     ]
    }
   ],
   "source": [
    "import torch\n",
    "import itertools\n",
    "\n",
    "with open('./inputs/day04.txt', 'r') as f:\n",
    "    x = f.read().replace('X', '1').replace('M', '2').replace('A', '3').replace('S', '4')\n",
    "\n",
    "x = torch.tensor([list(map(int, s)) for s in x.split()])\n",
    "\n",
    "part1_ans = 0\n",
    "for i, j in itertools.product(*map(range, x.shape)):\n",
    "    if i <= x.shape[0] - 4 and (all(x[i:i+4, j] == torch.tensor([1, 2, 3, 4])) or all(x[i:i+4, j] == torch.tensor([4, 3, 2, 1]))):\n",
    "        part1_ans += 1\n",
    "    \n",
    "    if j <= x.shape[1] - 4 and (all(x[i, j:j+4] == torch.tensor([1, 2, 3, 4])) or all(x[i, j:j+4] == torch.tensor([4, 3, 2, 1]))):\n",
    "        part1_ans += 1\n",
    "\n",
    "    if j <= x.shape[1] - 4 and i <= x.shape[0] - 4:\n",
    "        if all(x[i:i+4, j:j+4].diagonal() == torch.tensor([1, 2, 3, 4])) or all(x[i:i+4, j:j+4].diagonal() == torch.tensor([4, 3, 2, 1])):\n",
    "            part1_ans += 1\n",
    "\n",
    "        if all(x[i:i+4, j:j+4].rot90().diagonal() == torch.tensor([1, 2, 3, 4])) or all(x[i:i+4, j:j+4].rot90().diagonal() == torch.tensor([4, 3, 2, 1])):\n",
    "            part1_ans += 1\n",
    "\n",
    "print('Answer to Day 4, Part 1:', part1_ans)\n",
    "\n",
    "part2_ans = 0\n",
    "for i, j in itertools.product(*map(range, x.shape)):\n",
    "    if j <= x.shape[1] - 3 and i <= x.shape[0] - 3 and (\n",
    "        all(x[i:i+3, j:j+3].diagonal() == torch.tensor([2, 3, 4])) or all(x[i:i+3, j:j+3].diagonal() == torch.tensor([4, 3, 2]))\n",
    "    ) and (\n",
    "        all(x[i:i+3, j:j+3].rot90().diagonal() == torch.tensor([2, 3, 4])) or all(x[i:i+3, j:j+3].rot90().diagonal() == torch.tensor([4, 3, 2]))\n",
    "    ):\n",
    "        part2_ans += 1\n",
    "\n",
    "print('Answer to Day 4, Part 2:', part2_ans)"
   ]
  },
  {
   "cell_type": "code",
   "execution_count": 5,
   "metadata": {},
   "outputs": [
    {
     "name": "stdout",
     "output_type": "stream",
     "text": [
      "Answer to Day 5, Part 1: 5651\n",
      "Answer to Day 5, Part 2: 4743\n"
     ]
    }
   ],
   "source": [
    "rules = []\n",
    "updates = []\n",
    "with open('./inputs/day05.txt', 'r') as f:\n",
    "    for line in f.readlines():\n",
    "        if '|' in line:\n",
    "            rules.append(line.strip().split('|'))\n",
    "        elif ',' in line:\n",
    "            updates.append(line.strip().split(','))\n",
    "\n",
    "def is_good(update):\n",
    "    good = True\n",
    "    for rule in rules:\n",
    "        if rule[0] in update and rule[1] in update and update.index(rule[1]) < update.index(rule[0]):\n",
    "            good = False\n",
    "    \n",
    "    return good\n",
    "\n",
    "part1_ans = 0\n",
    "part2_ans = 0\n",
    "for update in updates:\n",
    "    if is_good(update):\n",
    "        part1_ans += int(update[len(update)//2])\n",
    "    else:\n",
    "        new_update = [update[0]]\n",
    "        for page in update[1:]:\n",
    "            for i in range(len(new_update) + 1):\n",
    "                if is_good(new_update[:i] + [page] + new_update[i:]):\n",
    "                    new_update = new_update[:i] + [page] + new_update[i:]\n",
    "                    break\n",
    "\n",
    "        part2_ans += int(new_update[len(new_update)//2])\n",
    "\n",
    "print('Answer to Day 5, Part 1:', part1_ans)\n",
    "print('Answer to Day 5, Part 2:', part2_ans)"
   ]
  }
 ],
 "metadata": {
  "kernelspec": {
   "display_name": ".venv",
   "language": "python",
   "name": "python3"
  },
  "language_info": {
   "codemirror_mode": {
    "name": "ipython",
    "version": 3
   },
   "file_extension": ".py",
   "mimetype": "text/x-python",
   "name": "python",
   "nbconvert_exporter": "python",
   "pygments_lexer": "ipython3",
   "version": "3.11.9"
  }
 },
 "nbformat": 4,
 "nbformat_minor": 2
}
