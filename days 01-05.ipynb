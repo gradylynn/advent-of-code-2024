{
 "cells": [
  {
   "cell_type": "code",
   "execution_count": 1,
   "metadata": {},
   "outputs": [
    {
     "name": "stdout",
     "output_type": "stream",
     "text": [
      "Answer to Day 1, Part 1: 2970687\n",
      "Answer to Day 1, Part 2: 23963899\n"
     ]
    }
   ],
   "source": [
    "list1 = []\n",
    "list2 = []\n",
    "with open('./inputs/day01.txt', 'r') as f:\n",
    "    while line := f.readline().strip():\n",
    "        i, j = line.split('   ')\n",
    "        list1.append(int(i))\n",
    "        list2.append(int(j))\n",
    "\n",
    "# sum of the absolute differences\n",
    "print('Answer to Day 1, Part 1:', sum(abs(i - j) for i, j in zip(sorted(list1), sorted(list2))))\n",
    "\n",
    "# sum of the list2-count times the value\n",
    "print('Answer to Day 1, Part 2:', sum(i * list2.count(i) for i in list1))"
   ]
  },
  {
   "cell_type": "code",
   "execution_count": 2,
   "metadata": {},
   "outputs": [
    {
     "name": "stdout",
     "output_type": "stream",
     "text": [
      "Answer to Day 2, Part 1: 341\n",
      "Answer to Day 2, Part 2: 404\n"
     ]
    }
   ],
   "source": [
    "import torch\n",
    "\n",
    "reports = []\n",
    "with open('./inputs/day02.txt', 'r') as f:\n",
    "    while line := f.readline().strip():\n",
    "        reports.append(torch.tensor(list(map(int, line.split()))))\n",
    "\n",
    "def is_safe(report):\n",
    "    if not (all(report.diff() > 0) or all(report.diff() < 0)):\n",
    "        return False\n",
    "    if max(abs(report.diff())) > 3:\n",
    "        return False\n",
    "    return True\n",
    "\n",
    "print('Answer to Day 2, Part 1:', sum(is_safe(r) for r in reports))\n",
    "\n",
    "# iteratively removing single elements and checking for safety\n",
    "part2_ans = sum(any(is_safe(torch.cat((r[:i], r[i+1:]))) for i in range(len(r))) for r in reports)\n",
    "print('Answer to Day 2, Part 2:', part2_ans)"
   ]
  },
  {
   "cell_type": "code",
   "execution_count": 3,
   "metadata": {},
   "outputs": [
    {
     "name": "stdout",
     "output_type": "stream",
     "text": [
      "Answer to Day 3, Part 1: 170807108\n",
      "Answer to Day 3, Part 2: 74838033\n"
     ]
    }
   ],
   "source": [
    "import re\n",
    "\n",
    "with open('./inputs/day03.txt', 'r') as f:\n",
    "    program = f.read()\n",
    "\n",
    "part1_ans = 0\n",
    "for m in re.findall(r'mul\\([0-9]{1,3},[0-9]{1,3}\\)', program):\n",
    "    x, y = re.findall(r'[0-9]{1,3}', m)\n",
    "    part1_ans += int(x) * int(y)\n",
    "\n",
    "print('Answer to Day 3, Part 1:', part1_ans)\n",
    "\n",
    "enabled = True\n",
    "part2_ans = 0\n",
    "for m in re.findall(r\"mul\\([0-9]{1,3},[0-9]{1,3}\\)|do\\(\\)|don't\\(\\)\", program):\n",
    "    if m == \"don't()\":\n",
    "        enabled = False\n",
    "    elif m == \"do()\":\n",
    "        enabled = True\n",
    "    elif enabled:\n",
    "        x, y = re.findall(r'[0-9]{1,3}', m)\n",
    "        part2_ans += int(x) * int(y)\n",
    "\n",
    "print('Answer to Day 3, Part 2:', part2_ans)"
   ]
  }
 ],
 "metadata": {
  "kernelspec": {
   "display_name": ".venv",
   "language": "python",
   "name": "python3"
  },
  "language_info": {
   "codemirror_mode": {
    "name": "ipython",
    "version": 3
   },
   "file_extension": ".py",
   "mimetype": "text/x-python",
   "name": "python",
   "nbconvert_exporter": "python",
   "pygments_lexer": "ipython3",
   "version": "3.11.9"
  }
 },
 "nbformat": 4,
 "nbformat_minor": 2
}
