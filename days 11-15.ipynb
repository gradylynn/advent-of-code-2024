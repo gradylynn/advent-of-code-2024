{
 "cells": [
  {
   "cell_type": "code",
   "execution_count": 1,
   "metadata": {},
   "outputs": [
    {
     "name": "stdout",
     "output_type": "stream",
     "text": [
      "Answer to Day 11, Part 1: 203228\n",
      "Answer to Day 11, Part 2: 240884656550923\n"
     ]
    }
   ],
   "source": [
    "with open('./inputs/day11.txt', 'r') as f:\n",
    "    stones = list(map(int, f.read().split()))\n",
    "\n",
    "orig_stones = stones.copy()\n",
    "\n",
    "stone_map = {}\n",
    "def blink_stone(stone):\n",
    "    if stone_map.get(stone) is None:\n",
    "        if stone == 0:\n",
    "            stone_map[stone] = [1]\n",
    "        elif len(str(stone)) % 2 == 0:\n",
    "            stone_map[stone] = [int(str(stone)[:len(str(stone)) // 2]), int(str(stone)[len(str(stone)) // 2:])]\n",
    "        else:\n",
    "            stone_map[stone] = [2024 * stone]\n",
    "\n",
    "    return stone_map[stone]\n",
    "\n",
    "def blink_stones(input_stones):\n",
    "    output_stones = []\n",
    "    for stone in input_stones:\n",
    "        output_stones += blink_stone(stone)\n",
    "\n",
    "    return output_stones\n",
    "\n",
    "for i in range(25):\n",
    "    stones = blink_stones(stones)\n",
    "\n",
    "print('Answer to Day 11, Part 1:', len(stones))\n",
    "\n",
    "stone_time_map = {}\n",
    "def blink_length(stone, num_blinks):\n",
    "    if num_blinks == 0:\n",
    "        return 1\n",
    "    elif stone_time_map.get((stone, num_blinks)) is None:\n",
    "        ans = sum(blink_length(s, num_blinks-1) for s in blink_stone(stone))\n",
    "        stone_time_map[(stone, num_blinks)] = ans\n",
    "        return ans\n",
    "    else:\n",
    "        return stone_time_map[(stone, num_blinks)]\n",
    "\n",
    "print('Answer to Day 11, Part 2:', sum(blink_length(s, num_blinks=75) for s in orig_stones))"
   ]
  }
 ],
 "metadata": {
  "kernelspec": {
   "display_name": ".venv",
   "language": "python",
   "name": "python3"
  },
  "language_info": {
   "codemirror_mode": {
    "name": "ipython",
    "version": 3
   },
   "file_extension": ".py",
   "mimetype": "text/x-python",
   "name": "python",
   "nbconvert_exporter": "python",
   "pygments_lexer": "ipython3",
   "version": "3.11.9"
  }
 },
 "nbformat": 4,
 "nbformat_minor": 2
}
