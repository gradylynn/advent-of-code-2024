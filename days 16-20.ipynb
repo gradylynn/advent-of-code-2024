{
 "cells": [
  {
   "cell_type": "code",
   "execution_count": 1,
   "metadata": {},
   "outputs": [
    {
     "name": "stdout",
     "output_type": "stream",
     "text": [
      "Answer to Day 16, Part 1: 92432\n",
      "Answer to Day 16, Part 2: 458\n"
     ]
    }
   ],
   "source": [
    "import networkx as nx\n",
    "\n",
    "g = nx.DiGraph()\n",
    "with open('./inputs/day16.txt', 'r') as f:\n",
    "    for i, line in enumerate(f.readlines()):\n",
    "        for j, c in enumerate(line):\n",
    "            if c in ('.', 'S', 'E'):\n",
    "                g.add_node((i, j, 'N'))\n",
    "                g.add_node((i, j, 'S'))\n",
    "                g.add_node((i, j, 'E'))\n",
    "                g.add_node((i, j, 'W'))\n",
    "                g.add_edge((i, j, 'N'), (i, j, 'E'), weight=1000)\n",
    "                g.add_edge((i, j, 'E'), (i, j, 'N'), weight=1000)\n",
    "                g.add_edge((i, j, 'E'), (i, j, 'S'), weight=1000)\n",
    "                g.add_edge((i, j, 'S'), (i, j, 'E'), weight=1000)\n",
    "                g.add_edge((i, j, 'S'), (i, j, 'W'), weight=1000)\n",
    "                g.add_edge((i, j, 'W'), (i, j, 'S'), weight=1000)\n",
    "                g.add_edge((i, j, 'W'), (i, j, 'N'), weight=1000)\n",
    "                g.add_edge((i, j, 'N'), (i, j, 'W'), weight=1000)\n",
    "                \n",
    "\n",
    "            if c == 'S':\n",
    "                start = (i, j, 'E')\n",
    "            elif c == 'E':\n",
    "                g.add_node('End!')\n",
    "                g.add_edge((i, j, 'N'), 'End!', weight=0)\n",
    "                g.add_edge((i, j, 'S'), 'End!', weight=0)\n",
    "                g.add_edge((i, j, 'E'), 'End!', weight=0)\n",
    "                g.add_edge((i, j, 'W'), 'End!', weight=0)\n",
    "\n",
    "for n in g.nodes:\n",
    "    if n[2] == 'E' and (n[0], n[1] + 1, 'E') in g.nodes:\n",
    "        g.add_edge(n, (n[0], n[1] + 1, 'E'), weight=1)\n",
    "    if n[2] == 'W' and (n[0], n[1] - 1, 'W') in g.nodes:\n",
    "        g.add_edge(n, (n[0], n[1] - 1, 'W'), weight=1)\n",
    "    if n[2] == 'S' and (n[0] + 1, n[1], 'S') in g.nodes:\n",
    "        g.add_edge(n, (n[0] + 1, n[1], 'S'), weight=1)\n",
    "    if n[2] == 'N' and (n[0] - 1, n[1], 'N') in g.nodes:\n",
    "        g.add_edge(n, (n[0] - 1, n[1], 'N'), weight=1)\n",
    "\n",
    "print('Answer to Day 16, Part 1:', nx.path_weight(g, nx.shortest_path(g, start, 'End!', 'weight'), 'weight'))\n",
    "\n",
    "path_nodes = sum((p for p in nx.all_shortest_paths(g, start, 'End!', 'weight')), [])\n",
    "print('Answer to Day 16, Part 2:', len(set((n[0], n[1]) for n in path_nodes if n != 'End!')))"
   ]
  }
 ],
 "metadata": {
  "kernelspec": {
   "display_name": ".venv",
   "language": "python",
   "name": "python3"
  },
  "language_info": {
   "codemirror_mode": {
    "name": "ipython",
    "version": 3
   },
   "file_extension": ".py",
   "mimetype": "text/x-python",
   "name": "python",
   "nbconvert_exporter": "python",
   "pygments_lexer": "ipython3",
   "version": "3.11.9"
  }
 },
 "nbformat": 4,
 "nbformat_minor": 2
}
